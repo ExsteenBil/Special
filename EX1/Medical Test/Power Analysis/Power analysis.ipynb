{
 "cells": [
  {
   "cell_type": "code",
   "execution_count": 2,
   "id": "d222b1ea-2fc7-4f04-970c-63bfa07f8c88",
   "metadata": {},
   "outputs": [],
   "source": [
    "import pandas as pd\n",
    "import numpy as np\n",
    "import matplotlib.pyplot as plt\n",
    "import seaborn as sns\n",
    "import os\n",
    "import re\n",
    "from scipy.stats import friedmanchisquare\n",
    "import matplotlib.pyplot as plt\n",
    "import pandas as pd\n",
    "import numpy as np\n",
    "from scipy.stats import friedmanchisquare\n",
    "import seaborn as sns\n",
    "import matplotlib.pyplot as plt\n",
    "from statsmodels.stats.multitest import multipletests\n",
    "from scipy.stats import wilcoxon\n",
    "from itertools import combinations\n",
    "import openpyxl\n",
    "import scienceplots\n",
    "import statsmodels.api as sm\n",
    "from statsmodels.stats.power import NormalIndPower\n",
    "from statsmodels.stats.power import TTestPower"
   ]
  },
  {
   "cell_type": "code",
   "execution_count": 3,
   "id": "4eb3f517-374f-49d0-8ed2-a7d2eab2b366",
   "metadata": {},
   "outputs": [],
   "source": [
    "#Effect size\n",
    "#Assuming that the result will be moved 20 points on 100 points scale\n",
    "d = 20/100\n",
    "#Power\n",
    "#The probability of detecting a true effect if it exsits. Default: 0.8.\n",
    "power = 0.8\n",
    "#Alpha\n",
    "#Meaning of significanc based on Fridman/wilcoxon\n",
    "alpha = 0.05\n",
    "#Currerent number of participants of all 4 times\n",
    "n = 59"
   ]
  },
  {
   "cell_type": "code",
   "execution_count": 5,
   "id": "c456d0bf-7372-4c11-80bc-7f20c00279c8",
   "metadata": {},
   "outputs": [
    {
     "name": "stdout",
     "output_type": "stream",
     "text": [
      "Required sample size: 198.15\n",
      "Current  sample size: 59.00\n"
     ]
    }
   ],
   "source": [
    "# Initialize power analysis object for a paired test (Wilcoxon is approximated here by paired t-test)\n",
    "power_analysis = TTestPower()\n",
    "\n",
    "# Calculate the required sample size\n",
    "required_sample_size = power_analysis.solve_power(effect_size=d, power=power, alpha=alpha, alternative='two-sided')\n",
    "\n",
    "print(f\"Required sample size: {required_sample_size:.2f}\")\n",
    "print(f\"Current  sample size: {n:.2f}\")"
   ]
  },
  {
   "cell_type": "code",
   "execution_count": null,
   "id": "07150dd0-8e89-410a-a9ef-f0f4163003e0",
   "metadata": {},
   "outputs": [],
   "source": []
  }
 ],
 "metadata": {
  "kernelspec": {
   "display_name": "Python 3 (ipykernel)",
   "language": "python",
   "name": "python3"
  },
  "language_info": {
   "codemirror_mode": {
    "name": "ipython",
    "version": 3
   },
   "file_extension": ".py",
   "mimetype": "text/x-python",
   "name": "python",
   "nbconvert_exporter": "python",
   "pygments_lexer": "ipython3",
   "version": "3.12.4"
  }
 },
 "nbformat": 4,
 "nbformat_minor": 5
}
